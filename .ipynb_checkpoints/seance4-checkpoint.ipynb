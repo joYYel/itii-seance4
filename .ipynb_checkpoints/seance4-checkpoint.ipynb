{
 "cells": [
  {
   "cell_type": "markdown",
   "metadata": {},
   "source": [
    "#Seance 4"
   ]
  },
  {
   "cell_type": "markdown",
   "metadata": {},
   "source": [
    "Ex 1: Racine quatrième \n",
    "\n",
    "Pour un nombre réel a positif, il existe un unique réel b positif tel que b^n = a. Ce réel est appelé la racine n-ième de a (ou racine n-ième principale de a).\n",
    "\n",
    "1. Donner la fonction python racine(b,n,e) qui donnée la racine n-eme de b avec une précision de e\n"
   ]
  },
  {
   "cell_type": "code",
   "execution_count": 75,
   "metadata": {},
   "outputs": [
    {
     "ename": "SyntaxError",
     "evalue": "invalid syntax (<ipython-input-75-0d2a4e7174bc>, line 1)",
     "output_type": "error",
     "traceback": [
      "\u001b[1;36m  File \u001b[1;32m\"<ipython-input-75-0d2a4e7174bc>\"\u001b[1;36m, line \u001b[1;32m1\u001b[0m\n\u001b[1;33m    remove maths from memory\u001b[0m\n\u001b[1;37m               ^\u001b[0m\n\u001b[1;31mSyntaxError\u001b[0m\u001b[1;31m:\u001b[0m invalid syntax\n"
     ]
    }
   ],
   "source": [
    "from math import\n",
    "\n",
    "def racine(b,n,e):\n",
    "    a = e\n",
    "    while(a**n < b):\n",
    "        a += e\n",
    "    print(a)\n",
    "    \n",
    "racine(8,3,0.01)\n",
    "racine(45,6,0.01)\n",
    "        "
   ]
  },
  {
   "cell_type": "markdown",
   "metadata": {},
   "source": [
    "Ex 2: Racine d'un polynome\n",
    "On appelle racine d'une polynome P une solution de l'équation (E): P(x)=0. \n",
    "\n",
    "On considère le trinome ax2+bx+c.\n",
    "\n",
    "Faire un algorithme pour trouver si il a des racines, combien, et calculer leur valeur. "
   ]
  },
  {
   "cell_type": "code",
   "execution_count": 13,
   "metadata": {},
   "outputs": [
    {
     "name": "stdout",
     "output_type": "stream",
     "text": [
      "-0.41421356237309515 -0.41421356237309515\n"
     ]
    }
   ],
   "source": [
    "def polynome(a,b,c):\n",
    "    if(b**2 - 4 * a * c) == 0:\n",
    "        res = -b / (2*a)\n",
    "        print(res)\n",
    "    elif(b**2 - 4 * a * c) < 0:\n",
    "        res = \"Aucune solution\"\n",
    "        print(res)\n",
    "    else:\n",
    "        res1 = (-b - math.sqrt(b**2 - 4 * a * c))/2*a\n",
    "        res2 = res1 = (-b + math.sqrt(b**2 - 4 * a * c))/2*a\n",
    "        print(res1,res2)  \n",
    "        \n",
    "polynome(-1,2,1)\n",
    "        "
   ]
  },
  {
   "cell_type": "markdown",
   "metadata": {},
   "source": [
    "#Introduction a Sympy \n",
    " \n",
    "Le module Sympy  permet de faire du calcul symbolique. Par exemple, le nombre √8 est représenté par Python comme un flottant"
   ]
  },
  {
   "cell_type": "code",
   "execution_count": 14,
   "metadata": {},
   "outputs": [
    {
     "data": {
      "text/plain": [
       "2.8284271247461903"
      ]
     },
     "execution_count": 14,
     "metadata": {},
     "output_type": "execute_result"
    }
   ],
   "source": [
    "math.sqrt(8)"
   ]
  },
  {
   "cell_type": "markdown",
   "metadata": {},
   "source": [
    "L’avantage de Sympy est que √8 est gardé en tant racine et même automatiquement simplifié"
   ]
  },
  {
   "cell_type": "code",
   "execution_count": 19,
   "metadata": {},
   "outputs": [
    {
     "data": {
      "image/png": "[encoded data removed]",
      "text/latex": [
       "$\\displaystyle 2 \\sqrt{2}$"
      ],
      "text/plain": [
       "2⋅√2"
      ]
     },
     "execution_count": 19,
     "metadata": {},
     "output_type": "execute_result"
    }
   ],
   "source": [
    "from sympy import *\n",
    "\n",
    "init_printing()\n",
    "sqrt(8)"
   ]
  },
  {
   "cell_type": "markdown",
   "metadata": {},
   "source": [
    "Ex3 : Introduction\n",
    "Avant de pourvoir utiliser des variables symboliques, il faut les déclarer comme symboles:"
   ]
  },
  {
   "cell_type": "code",
   "execution_count": 20,
   "metadata": {},
   "outputs": [
    {
     "data": {
      "image/png": "[encoded data removed]",
      "text/latex": [
       "$\\displaystyle \\frac{\\varepsilon}{4} + x^{2} + 4 x + 4 y$"
      ],
      "text/plain": [
       "\\varepsilon    2            \n",
       "─────────── + x  + 4⋅x + 4⋅y\n",
       "     4                      "
      ]
     },
     "execution_count": 20,
     "metadata": {},
     "output_type": "execute_result"
    }
   ],
   "source": [
    "x = Symbol(\"x\")# definit le symbole x\n",
    "y = Symbol(\"y\", real=True)# définit la variable réelle y\n",
    "e = Symbol(r\"\\varepsilon\", real=True, positive=True)# définit epsilon positif\n",
    "\n",
    "x + 2*y + e/4 + x**2 + 3*x + 2*y"
   ]
  },
  {
   "cell_type": "markdown",
   "metadata": {},
   "source": [
    "1. Lire la doc de la fonction solve et l’utiliser pour calculer les racines d’un polynôme général de degré deux, puis de degré trois\n",
    "2. Lire la documentation des fonctions evalf et N pour évaluer l’expression π^2/4\n",
    "3. Déterminer la partie réelle et imaginaire de l’expression : (1+i√3)^20 / 1+i\n",
    "4. Lire la documentation de la fonction diff et calculer la dérivée de xe^x^x^x par rapport à x.\n",
    "5. Calculer avec Sympy les limites suivantes :\n",
    " * L1= lim x→0 sin(x)/x,\n",
    " * L2= lim x→0 sin(1/x),"
   ]
  },
  {
   "cell_type": "code",
   "execution_count": 28,
   "metadata": {},
   "outputs": [
    {
     "data": {
      "image/png": "[encoded data removed]",
      "text/latex": [
       "$\\displaystyle \\left[ -1 - \\sqrt{2} i, \\  -1 + \\sqrt{2} i\\right]$"
      ],
      "text/plain": [
       "[-1 - √2⋅ⅈ, -1 + √2⋅ⅈ]"
      ]
     },
     "execution_count": 28,
     "metadata": {},
     "output_type": "execute_result"
    }
   ],
   "source": [
    "solve(2*x**2+4*x+6,x)"
   ]
  },
  {
   "cell_type": "code",
   "execution_count": 27,
   "metadata": {},
   "outputs": [
    {
     "data": {
      "image/png": "[encoded data removed]",
      "text/latex": [
       "$\\displaystyle \\left[ \\frac{1}{28 \\left(- \\frac{1}{2} - \\frac{\\sqrt{3} i}{2}\\right) \\sqrt[3]{\\frac{1053}{56} + \\frac{3 \\sqrt{6036870}}{392}}} - \\frac{\\left(- \\frac{1}{2} - \\frac{\\sqrt{3} i}{2}\\right) \\sqrt[3]{\\frac{1053}{56} + \\frac{3 \\sqrt{6036870}}{392}}}{3}, \\  - \\frac{\\left(- \\frac{1}{2} + \\frac{\\sqrt{3} i}{2}\\right) \\sqrt[3]{\\frac{1053}{56} + \\frac{3 \\sqrt{6036870}}{392}}}{3} + \\frac{1}{28 \\left(- \\frac{1}{2} + \\frac{\\sqrt{3} i}{2}\\right) \\sqrt[3]{\\frac{1053}{56} + \\frac{3 \\sqrt{6036870}}{392}}}, \\  - \\frac{\\sqrt[3]{\\frac{1053}{56} + \\frac{3 \\sqrt{6036870}}{392}}}{3} + \\frac{1}{28 \\sqrt[3]{\\frac{1053}{56} + \\frac{3 \\sqrt{6036870}}{392}}}\\right]$"
      ],
      "text/plain": [
       "⎡                                                           __________________\n",
       "⎢                                          ⎛  1   √3⋅ⅈ⎞    ╱ 1053   3⋅√6036870\n",
       "⎢                                          ⎜- ─ - ────⎟⋅3 ╱  ──── + ──────────\n",
       "⎢                   1                      ⎝  2    2  ⎠ ╲╱    56       392    \n",
       "⎢─────────────────────────────────────── - ───────────────────────────────────\n",
       "⎢                    ___________________                    3                 \n",
       "⎢   ⎛  1   √3⋅ⅈ⎞    ╱ 1053   3⋅√6036870                                       \n",
       "⎢28⋅⎜- ─ - ────⎟⋅3 ╱  ──── + ──────────                                       \n",
       "⎣   ⎝  2    2  ⎠ ╲╱    56       392                                           \n",
       "\n",
       "_                     ___________________                                     \n",
       "     ⎛  1   √3⋅ⅈ⎞    ╱ 1053   3⋅√6036870                                      \n",
       "     ⎜- ─ + ────⎟⋅3 ╱  ──── + ──────────                                      \n",
       "     ⎝  2    2  ⎠ ╲╱    56       392                           1              \n",
       "─, - ──────────────────────────────────── + ──────────────────────────────────\n",
       "                      3                                         ______________\n",
       "                                               ⎛  1   √3⋅ⅈ⎞    ╱ 1053   3⋅√603\n",
       "                                            28⋅⎜- ─ + ────⎟⋅3 ╱  ──── + ──────\n",
       "                                               ⎝  2    2  ⎠ ╲╱    56       392\n",
       "\n",
       "             ___________________                             ⎤\n",
       "            ╱ 1053   3⋅√6036870                              ⎥\n",
       "         3 ╱  ──── + ──────────                              ⎥\n",
       "         ╲╱    56       392                    1             ⎥\n",
       "─────, - ─────────────────────── + ──────────────────────────⎥\n",
       "_____               3                     ___________________⎥\n",
       "6870                                     ╱ 1053   3⋅√6036870 ⎥\n",
       "────                               28⋅3 ╱  ──── + ────────── ⎥\n",
       "                                      ╲╱    56       392     ⎦"
      ]
     },
     "execution_count": 27,
     "metadata": {},
     "output_type": "execute_result"
    }
   ],
   "source": [
    "solve(56*x**3+2*x+78,x)"
   ]
  },
  {
   "cell_type": "code",
   "execution_count": 51,
   "metadata": {},
   "outputs": [
    {
     "data": {
      "image/png": "[encoded data removed]",
      "text/latex": [
       "$\\displaystyle 0.25 \\pi^{2}$"
      ],
      "text/plain": [
       "      2\n",
       "0.25⋅π "
      ]
     },
     "execution_count": 51,
     "metadata": {},
     "output_type": "execute_result"
    }
   ],
   "source": [
    "pi = Symbol(\"pi\")\n",
    "(pi**2/4).evalf()\n"
   ]
  },
  {
   "cell_type": "code",
   "execution_count": 44,
   "metadata": {},
   "outputs": [
    {
     "data": {
      "image/png": "[encoded data removed]",
      "text/latex": [
       "$\\displaystyle 0.25 \\pi^{2}$"
      ],
      "text/plain": [
       "      2\n",
       "0.25⋅π "
      ]
     },
     "execution_count": 44,
     "metadata": {},
     "output_type": "execute_result"
    }
   ],
   "source": [
    "N(pi**2/4,4)"
   ]
  },
  {
   "cell_type": "code",
   "execution_count": 54,
   "metadata": {},
   "outputs": [
    {
     "data": {
      "image/png": "[encoded data removed]",
      "text/latex": [
       "$\\displaystyle 191902.726899336 + 716190.726899335 i$"
      ],
      "text/plain": [
       "191902.726899336 + 716190.726899335⋅ⅈ"
      ]
     },
     "execution_count": 54,
     "metadata": {},
     "output_type": "execute_result"
    }
   ],
   "source": [
    "x = 1 + I\n",
    "y = (1 + I * sqrt(3))**20\n",
    "N(y/x)\n"
   ]
  },
  {
   "cell_type": "code",
   "execution_count": 69,
   "metadata": {},
   "outputs": [
    {
     "data": {
      "image/png": "[encoded data removed]",
      "text/latex": [
       "$\\displaystyle x x^{x^{x}} \\left(x^{x} \\left(\\log{\\left(x \\right)} + 1\\right) \\log{\\left(x \\right)} + \\frac{x^{x}}{x}\\right) e^{x^{x^{x}}} + e^{x^{x^{x}}}$"
      ],
      "text/plain": [
       "                                       ⎛ ⎛ x⎞⎞    ⎛ ⎛ x⎞⎞\n",
       "   ⎛ x⎞ ⎛                          x⎞  ⎜ ⎝x ⎠⎟    ⎜ ⎝x ⎠⎟\n",
       "   ⎝x ⎠ ⎜ x                       x ⎟  ⎝x    ⎠    ⎝x    ⎠\n",
       "x⋅x    ⋅⎜x ⋅(log(x) + 1)⋅log(x) + ──⎟⋅ℯ        + ℯ       \n",
       "        ⎝                         x ⎠                    "
      ]
     },
     "execution_count": 69,
     "metadata": {},
     "output_type": "execute_result"
    }
   ],
   "source": [
    "x = Symbol(\"x\")\n",
    "diff(x*E**x**x**x,x)"
   ]
  },
  {
   "cell_type": "markdown",
   "metadata": {},
   "source": [
    "Ex 4 : Application\n",
    "Le but est d’utiliser Sympy pour résoudre symboliquement différents problèmes mathématiquesen \n",
    "1. Déterminer le nombre de zéro que contient l’entier 123!\n",
    "2. Déterminer le rapport entre la hauteur et le rayon d’un cylindre de manière à minimiser sonaire à volume fixé\n",
    "3. Pour x,y∈R tels que xy <1, démontrer que arctan(x) + arctan(y) = arctan(x+y/1−xy)\n",
    "\n",
    "    "
   ]
  }
 ],
 "metadata": {
  "kernelspec": {
   "display_name": "Python 3",
   "language": "python",
   "name": "python3"
  },
  "language_info": {
   "codemirror_mode": {
    "name": "ipython",
    "version": 3
   },
   "file_extension": ".py",
   "mimetype": "text/x-python",
   "name": "python",
   "nbconvert_exporter": "python",
   "pygments_lexer": "ipython3",
   "version": "3.7.6"
  }
 },
 "nbformat": 4,
 "nbformat_minor": 4
}
